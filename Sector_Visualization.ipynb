{
 "cells": [
  {
   "cell_type": "markdown",
   "metadata": {},
   "source": [
    "# Sector Visualization\n",
    "\n",
    "In this example, we will parse the database and visualize each sector's averaage times.\n",
    "\n",
    "## Step 0: Global variables"
   ]
  },
  {
   "cell_type": "code",
   "execution_count": 1,
   "metadata": {},
   "outputs": [],
   "source": [
    "database_path = 'bike_data.db'"
   ]
  },
  {
   "cell_type": "markdown",
   "metadata": {},
   "source": [
    "## Step 1: Import required libraries and the database"
   ]
  },
  {
   "cell_type": "code",
   "execution_count": 2,
   "metadata": {},
   "outputs": [],
   "source": [
    "import pandas as pd\n",
    "from sqlalchemy import create_engine\n",
    "from ipyleaflet import Map, Marker, Polygon\n",
    "import matplotlib\n",
    "import matplotlib.pyplot as plt\n",
    "from matplotlib import cm\n",
    "\n",
    "# SQLAlchemy connectable \n",
    "conn = create_engine( 'sqlite:///' + database_path ).connect()"
   ]
  },
  {
   "cell_type": "markdown",
   "metadata": {},
   "source": [
    "## Step 2: Import Sector Data"
   ]
  },
  {
   "cell_type": "code",
   "execution_count": 3,
   "metadata": {},
   "outputs": [],
   "source": [
    "sector_list = pd.read_sql_table( 'sector_list',conn)\n",
    "centroid = [0, 0]\n",
    "num_points = 0\n",
    "\n",
    "polygons = []\n",
    "\n",
    "counter = 0.0\n",
    "for sector in sector_list['sector_id']:\n",
    "    \n",
    "    sector_points = pd.read_sql_table( sector, conn )\n",
    "    \n",
    "    poly_draw = Polygon( )\n",
    "    centroid = [centroid[0] + sector_points['latitude'].mean()  * len(sector_points),\n",
    "                centroid[1] + sector_points['longitude'].mean() * len(sector_points)]\n",
    "    num_points += len( sector_points )\n",
    "    \n",
    "    color_code = matplotlib.colors.rgb2hex(plt.get_cmap('hsv')( counter / len(sector_list) ))\n",
    "    poly_points = [ ( row['latitude'], row['longitude'] ) for index, row in sector_points.iterrows() ]\n",
    "    polygons.append( Polygon( locations=poly_points, \n",
    "                              color=color_code,\n",
    "                              fill_color=color_code ) )\n",
    "    counter += 1.0"
   ]
  },
  {
   "cell_type": "markdown",
   "metadata": {},
   "source": [
    "Here is a handy visualization of the designated sectors."
   ]
  },
  {
   "cell_type": "code",
   "execution_count": 4,
   "metadata": {},
   "outputs": [
    {
     "data": {
      "application/vnd.jupyter.widget-view+json": {
       "model_id": "e45a0c49b5e343c0a8fdad222a9355e4",
       "version_major": 2,
       "version_minor": 0
      },
      "text/plain": [
       "Map(center=[39.68022141177373, -104.91524623127385], controls=(ZoomControl(options=['position', 'zoom_in_text'…"
      ]
     },
     "metadata": {},
     "output_type": "display_data"
    }
   ],
   "source": [
    "centroid_pt = (centroid[0]/num_points, \n",
    "               centroid[1]/num_points)\n",
    "\n",
    "#  Build Map Visualization    \n",
    "m = Map( center=centroid_pt, zoom=11)\n",
    "for polygon in polygons:\n",
    "    m.add_layer(polygon);\n",
    "    \n",
    "m.layout.height=\"550px\"    \n",
    "m "
   ]
  },
  {
   "cell_type": "markdown",
   "metadata": {},
   "source": [
    "For each sector, we need to construct tracks"
   ]
  },
  {
   "cell_type": "code",
   "execution_count": 5,
   "metadata": {},
   "outputs": [],
   "source": [
    "def Build_Segment( conn, point_list, dataset_id, sector_id ):\n",
    "    \n",
    "    #  Get a list of all points with that sector-id\n",
    "    sql_query = 'SELECT * FROM point_list WHERE (sector_id = \\'{}\\') and (dataset_id = {})'.format( sector_id, dataset_id )\n",
    "    points_in_sector = pd.read_sql_query( sql_query, conn )\n",
    "    print(points_in_sector)\n",
    "    \n",
    "    return points_in_sector"
   ]
  },
  {
   "cell_type": "markdown",
   "metadata": {},
   "source": [
    "Construct the tracks"
   ]
  },
  {
   "cell_type": "code",
   "execution_count": 6,
   "metadata": {},
   "outputs": [
    {
     "name": "stdout",
     "output_type": "stream",
     "text": [
      "Sector: sector_0, Dataset: 0.0, Time: 0 days 00:09:54\n",
      "Sector: sector_0, Dataset: 1.0, Time: NaT\n",
      "Sector: sector_1, Dataset: 0.0, Time: 0 days 00:08:24\n",
      "Sector: sector_1, Dataset: 1.0, Time: 0 days 00:07:08\n",
      "Sector: sector_2, Dataset: 0.0, Time: 0 days 00:07:17\n",
      "Sector: sector_2, Dataset: 1.0, Time: 0 days 00:07:43\n",
      "Sector: sector_3, Dataset: 0.0, Time: 0 days 00:09:09\n",
      "Sector: sector_3, Dataset: 1.0, Time: 0 days 00:08:35\n",
      "Sector: sector_4, Dataset: 0.0, Time: 0 days 00:08:13\n",
      "Sector: sector_4, Dataset: 1.0, Time: 0 days 00:07:32\n",
      "Sector: sector_5, Dataset: 0.0, Time: 0 days 00:09:38\n",
      "Sector: sector_5, Dataset: 1.0, Time: 0 days 00:09:01\n",
      "Sector: sector_6, Dataset: 0.0, Time: 0 days 00:04:50\n",
      "Sector: sector_6, Dataset: 1.0, Time: 0 days 00:04:46\n",
      "Sector: sector_7, Dataset: 0.0, Time: 0 days 00:07:15\n",
      "Sector: sector_7, Dataset: 1.0, Time: 0 days 00:07:43\n",
      "Sector: sector_8, Dataset: 0.0, Time: 0 days 00:06:25\n",
      "Sector: sector_8, Dataset: 1.0, Time: 0 days 00:06:30\n"
     ]
    }
   ],
   "source": [
    "#  For each segment, we need to create a track for each dataset\n",
    "dataset_ids = pd.read_sql_query('SELECT DISTINCT dataset_id FROM point_list', conn)\n",
    "\n",
    "#  Load the entire list of points into one dataframe for quicker access\n",
    "point_list = pd.read_sql_table( 'point_list', conn )\n",
    "\n",
    "for sector_id in sector_list['sector_id']:\n",
    "    \n",
    "    #  For each dataset\n",
    "    for dataset_id in dataset_ids['dataset_id']:\n",
    "        \n",
    "        #  Create a full track of the segment\n",
    "        sql_query = 'SELECT * FROM point_list WHERE (sector_id = \\'{}\\') and (dataset_id = {})'.format( sector_id, dataset_id )\n",
    "        points_in_sector = pd.read_sql_query( sql_query, conn )\n",
    "        \n",
    "        #  from the point list, we can compute time spent in sector\n",
    "        points_in_sector['timestamp'] =  pd.to_datetime(points_in_sector['timestamp'])\n",
    "        time_in_sector = points_in_sector['timestamp'].max() - points_in_sector['timestamp'].min()\n",
    "        print('Sector: {}, Dataset: {}, Time: {}'.format( sector_id, dataset_id, time_in_sector))\n",
    "        "
   ]
  },
  {
   "cell_type": "code",
   "execution_count": null,
   "metadata": {},
   "outputs": [],
   "source": []
  }
 ],
 "metadata": {
  "kernelspec": {
   "display_name": "Python 3",
   "language": "python",
   "name": "python3"
  },
  "language_info": {
   "codemirror_mode": {
    "name": "ipython",
    "version": 3
   },
   "file_extension": ".py",
   "mimetype": "text/x-python",
   "name": "python",
   "nbconvert_exporter": "python",
   "pygments_lexer": "ipython3",
   "version": "3.8.6"
  }
 },
 "nbformat": 4,
 "nbformat_minor": 4
}
