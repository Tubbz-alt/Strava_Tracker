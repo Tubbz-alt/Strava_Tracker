{
 "cells": [
  {
   "cell_type": "markdown",
   "metadata": {},
   "source": [
    "# Sector Visualization\n",
    "\n",
    "In this example, we will parse the database and visualize each sector's averaage times.\n",
    "\n",
    "## Step 0: Global variables"
   ]
  },
  {
   "cell_type": "code",
   "execution_count": null,
   "metadata": {},
   "outputs": [],
   "source": [
    "database_path = 'bike_data.db'"
   ]
  },
  {
   "cell_type": "markdown",
   "metadata": {},
   "source": [
    "## Step 1: Import required libraries and the database"
   ]
  },
  {
   "cell_type": "code",
   "execution_count": 2,
   "metadata": {},
   "outputs": [],
   "source": [
    "import pandas as pd\n",
    "from sqlalchemy import create_engine\n",
    "from ipyleaflet import Map, Marker, Polygon\n",
    "import matplotlib\n",
    "import matplotlib.pyplot as plt\n",
    "from matplotlib import cm\n",
    "import math\n",
    "\n",
    "# SQLAlchemy connectable \n",
    "conn = create_engine( 'sqlite:///' + database_path ).connect()"
   ]
  },
  {
   "cell_type": "markdown",
   "metadata": {},
   "source": [
    "## Step 2: Import Sector Data"
   ]
  },
  {
   "cell_type": "code",
   "execution_count": 3,
   "metadata": {},
   "outputs": [],
   "source": [
    "sector_list = pd.read_sql_table( 'sector_list',conn)\n",
    "centroid = [0, 0]\n",
    "num_points = 0\n",
    "\n",
    "polygons = []\n",
    "\n",
    "counter = 0.0\n",
    "for sector in sector_list['sector_id']:\n",
    "    \n",
    "    sector_points = pd.read_sql_table( sector, conn )\n",
    "    \n",
    "    poly_draw = Polygon( )\n",
    "    centroid = [centroid[0] + sector_points['latitude'].mean()  * len(sector_points),\n",
    "                centroid[1] + sector_points['longitude'].mean() * len(sector_points)]\n",
    "    num_points += len( sector_points )\n",
    "    \n",
    "    color_code = matplotlib.colors.rgb2hex(plt.get_cmap('hsv')( counter / len(sector_list) ))\n",
    "    poly_points = [ ( row['latitude'], row['longitude'] ) for index, row in sector_points.iterrows() ]\n",
    "    polygons.append( Polygon( locations=poly_points, \n",
    "                              color=color_code,\n",
    "                              fill_color=color_code ) )\n",
    "    counter += 1.0"
   ]
  },
  {
   "cell_type": "markdown",
   "metadata": {},
   "source": [
    "Here is a handy visualization of the designated sectors."
   ]
  },
  {
   "cell_type": "code",
   "execution_count": 4,
   "metadata": {},
   "outputs": [
    {
     "data": {
      "application/vnd.jupyter.widget-view+json": {
       "model_id": "8769044d52184443b3b166caee2c39c6",
       "version_major": 2,
       "version_minor": 0
      },
      "text/plain": [
       "Map(center=[39.68022141177373, -104.91524623127385], controls=(ZoomControl(options=['position', 'zoom_in_text'…"
      ]
     },
     "metadata": {},
     "output_type": "display_data"
    }
   ],
   "source": [
    "centroid_pt = (centroid[0]/num_points, \n",
    "               centroid[1]/num_points)\n",
    "\n",
    "#  Build Map Visualization    \n",
    "m = Map( center=centroid_pt, zoom=11)\n",
    "for polygon in polygons:\n",
    "    m.add_layer(polygon);\n",
    "    \n",
    "m.layout.height=\"550px\"    \n",
    "m "
   ]
  },
  {
   "cell_type": "markdown",
   "metadata": {},
   "source": [
    "For each sector, we need to construct tracks"
   ]
  },
  {
   "cell_type": "code",
   "execution_count": 5,
   "metadata": {},
   "outputs": [],
   "source": [
    "def Build_Segment( conn, point_list, dataset_id, sector_id ):\n",
    "    \n",
    "    #  Get a list of all points with that sector-id\n",
    "    sql_query = 'SELECT * FROM point_list WHERE (sector_id = \\'{}\\') and (dataset_id = {})'.format( sector_id, dataset_id )\n",
    "    points_in_sector = pd.read_sql_query( sql_query, conn )\n",
    "    print(points_in_sector)\n",
    "    \n",
    "    return points_in_sector"
   ]
  },
  {
   "cell_type": "markdown",
   "metadata": {},
   "source": [
    "Construct the tracks"
   ]
  },
  {
   "cell_type": "code",
   "execution_count": 6,
   "metadata": {},
   "outputs": [
    {
     "name": "stdout",
     "output_type": "stream",
     "text": [
      "Sector: sector_0, Dataset: 0.0, Distance: 3649.276116781399\n",
      "Sector: sector_0, Dataset: 1.0, Distance: 0\n",
      "Sector: sector_1, Dataset: 0.0, Distance: 3347.4011820373726\n",
      "Sector: sector_1, Dataset: 1.0, Distance: 2948.195191112837\n",
      "Sector: sector_2, Dataset: 0.0, Distance: 2948.016750182945\n",
      "Sector: sector_2, Dataset: 1.0, Distance: 3031.246009229241\n",
      "Sector: sector_3, Dataset: 0.0, Distance: 3980.784376813766\n",
      "Sector: sector_3, Dataset: 1.0, Distance: 3877.8274864821688\n",
      "Sector: sector_4, Dataset: 0.0, Distance: 3584.5491472099307\n",
      "Sector: sector_4, Dataset: 1.0, Distance: 3571.634784463647\n",
      "Sector: sector_5, Dataset: 0.0, Distance: 4117.7276027881135\n",
      "Sector: sector_5, Dataset: 1.0, Distance: 4072.9681893778697\n",
      "Sector: sector_6, Dataset: 0.0, Distance: 2134.9123142436347\n",
      "Sector: sector_6, Dataset: 1.0, Distance: 2080.6547772961853\n",
      "Sector: sector_7, Dataset: 0.0, Distance: 2936.0076124127695\n",
      "Sector: sector_7, Dataset: 1.0, Distance: 2807.167202219776\n",
      "Sector: sector_8, Dataset: 0.0, Distance: 2294.938274340547\n",
      "Sector: sector_8, Dataset: 1.0, Distance: 2180.926383229527\n"
     ]
    }
   ],
   "source": [
    "#  For each segment, we need to create a track for each dataset\n",
    "dataset_ids = pd.read_sql_query('SELECT DISTINCT dataset_id FROM point_list', conn)\n",
    "\n",
    "#  Load the entire list of points into one dataframe for quicker access\n",
    "point_list = pd.read_sql_table( 'point_list', conn )\n",
    "\n",
    "for sector_id in sector_list['sector_id']:\n",
    "    \n",
    "    #  For each dataset\n",
    "    for dataset_id in dataset_ids['dataset_id']:\n",
    "        \n",
    "        #  Create a full track of the segment\n",
    "        sql_query = 'SELECT * FROM point_list WHERE (sector_id = \\'{}\\') and (dataset_id = {}) ORDER BY timestamp'.format( sector_id, dataset_id )\n",
    "        points_in_sector = pd.read_sql_query( sql_query, conn )\n",
    "        \n",
    "        #  from the point list, we can compute time spent in sector\n",
    "        points_in_sector['timestamp'] =  pd.to_datetime(points_in_sector['timestamp'])\n",
    "        time_in_sector = points_in_sector['timestamp'].max() - points_in_sector['timestamp'].min()\n",
    "        \n",
    "        #  We can build a linked-list of points\n",
    "        distance_sector = 0\n",
    "        p0 = None\n",
    "        p1 = None\n",
    "        counter = 0\n",
    "        for point in points_in_sector.itertuples( index=False ):\n",
    "            #print('Point: {}, Lon: {}, Lat: {}'.format(point, point[0], point[1]))\n",
    "            if p0 is None:\n",
    "                p0 = point\n",
    "            else:\n",
    "                p1 = point\n",
    "                try:\n",
    "                    distance_sector += Distance_Vincenty( ( p0[2], p0[1] ), \n",
    "                                                          ( p1[2], p1[1] ) )\n",
    "                except Exception as e:\n",
    "                    print( 'Exception: {}'.format(e))\n",
    "                    print( 'Failed to parse. Counter: {}, Index P0: {}, Index P1: {}'.format( counter, p0[0], p1[0]) )\n",
    "                p0 = point\n",
    "            counter += 1\n",
    "            \n",
    "        print('Sector: {}, Dataset: {}, Distance: {}'.format( sector_id, dataset_id, distance_sector ) )\n",
    "        #  We can also find the distance run through sector\n",
    "        #distance_in_sector\n",
    "        "
   ]
  },
  {
   "cell_type": "markdown",
   "metadata": {},
   "source": [
    "## References\n",
    "\n",
    "* Vincenty Formula Code: https://nathanrooy.github.io/posts/2016-12-18/vincenty-formula-with-python/"
   ]
  },
  {
   "cell_type": "code",
   "execution_count": null,
   "metadata": {},
   "outputs": [],
   "source": []
  }
 ],
 "metadata": {
  "kernelspec": {
   "display_name": "Python 3",
   "language": "python",
   "name": "python3"
  },
  "language_info": {
   "codemirror_mode": {
    "name": "ipython",
    "version": 3
   },
   "file_extension": ".py",
   "mimetype": "text/x-python",
   "name": "python",
   "nbconvert_exporter": "python",
   "pygments_lexer": "ipython3",
   "version": "3.8.5"
  }
 },
 "nbformat": 4,
 "nbformat_minor": 4
}
