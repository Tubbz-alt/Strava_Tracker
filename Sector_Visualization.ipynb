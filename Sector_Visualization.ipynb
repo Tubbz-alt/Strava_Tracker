{
 "cells": [
  {
   "cell_type": "markdown",
   "metadata": {},
   "source": [
    "# Sector Visualization\n",
    "\n",
    "In this example, we will parse the database and visualize each sector's averaage times.\n",
    "\n",
    "## Step 0: Global variables"
   ]
  },
  {
   "cell_type": "code",
   "execution_count": 1,
   "metadata": {},
   "outputs": [],
   "source": [
    "database_path = 'bike_data.db'"
   ]
  },
  {
   "cell_type": "markdown",
   "metadata": {},
   "source": [
    "## Step 1: Import required libraries and the database"
   ]
  },
  {
   "cell_type": "code",
   "execution_count": 2,
   "metadata": {},
   "outputs": [],
   "source": [
    "import pandas as pd\n",
    "from sqlalchemy import create_engine\n",
    "from ipyleaflet import Map, Marker, Polygon\n",
    "import matplotlib\n",
    "import matplotlib.pyplot as plt\n",
    "from matplotlib import cm\n",
    "\n",
    "# SQLAlchemy connectable \n",
    "conn = create_engine( 'sqlite:///' + database_path ).connect()"
   ]
  },
  {
   "cell_type": "markdown",
   "metadata": {},
   "source": [
    "## Step 2: Import Sector Data"
   ]
  },
  {
   "cell_type": "code",
   "execution_count": 3,
   "metadata": {},
   "outputs": [],
   "source": [
    "sector_list = pd.read_sql_table( 'sector_list',conn)\n",
    "centroid = [0, 0]\n",
    "num_points = 0\n",
    "\n",
    "polygons = []\n",
    "\n",
    "counter = 0.0\n",
    "for sector in sector_list['sector_id']:\n",
    "    \n",
    "    sector_points = pd.read_sql_table( sector, conn )\n",
    "    \n",
    "    poly_draw = Polygon( )\n",
    "    centroid = [centroid[0] + sector_points['latitude'].mean()  * len(sector_points),\n",
    "                centroid[1] + sector_points['longitude'].mean() * len(sector_points)]\n",
    "    num_points += len( sector_points )\n",
    "    \n",
    "    color_code = matplotlib.colors.rgb2hex(plt.get_cmap('hsv')( counter / len(sector_list) ))\n",
    "    poly_points = [ ( row['latitude'], row['longitude'] ) for index, row in sector_points.iterrows() ]\n",
    "    polygons.append( Polygon( locations=poly_points, \n",
    "                              color=color_code,\n",
    "                              fill_color=color_code ) )\n",
    "    counter += 1.0"
   ]
  },
  {
   "cell_type": "markdown",
   "metadata": {},
   "source": [
    "Here is a handy visualization of the designated sectors."
   ]
  },
  {
   "cell_type": "code",
   "execution_count": 4,
   "metadata": {},
   "outputs": [
    {
     "data": {
      "application/vnd.jupyter.widget-view+json": {
       "model_id": "87e9d1f97ad04c71a7dc1d94d547ce71",
       "version_major": 2,
       "version_minor": 0
      },
      "text/plain": [
       "Map(center=[39.68022141177373, -104.91524623127385], controls=(ZoomControl(options=['position', 'zoom_in_text'…"
      ]
     },
     "metadata": {},
     "output_type": "display_data"
    }
   ],
   "source": [
    "centroid_pt = (centroid[0]/num_points, \n",
    "               centroid[1]/num_points)\n",
    "\n",
    "#  Build Map Visualization    \n",
    "m = Map( center=centroid_pt, zoom=11)\n",
    "for polygon in polygons:\n",
    "    m.add_layer(polygon);\n",
    "    \n",
    "m.layout.height=\"550px\"    \n",
    "m "
   ]
  },
  {
   "cell_type": "markdown",
   "metadata": {},
   "source": [
    "For each sector, we need to construct tracks"
   ]
  },
  {
   "cell_type": "code",
   "execution_count": 6,
   "metadata": {},
   "outputs": [
    {
     "ename": "SyntaxError",
     "evalue": "unexpected EOF while parsing (<ipython-input-6-0324f2737f25>, line 10)",
     "output_type": "error",
     "traceback": [
      "\u001b[0;36m  File \u001b[0;32m\"<ipython-input-6-0324f2737f25>\"\u001b[0;36m, line \u001b[0;32m10\u001b[0m\n\u001b[0;31m    \u001b[0m\n\u001b[0m    ^\u001b[0m\n\u001b[0;31mSyntaxError\u001b[0m\u001b[0;31m:\u001b[0m unexpected EOF while parsing\n"
     ]
    }
   ],
   "source": [
    "#  For each segment, we need to create a track for each dataset\n",
    "dataset_ids = pd.read_sql_query('SELECT DISTINCT dataset_id FROM point_list', conn)\n",
    "\n",
    "#  Load the entire list of points into one dataframe for quicker access\n",
    "point_list = pd.read_sql_table( 'point_list', conn )\n",
    "\n",
    "for sector in sector_list['sector_id']:\n",
    "    \n",
    "    #  For each dataset\n",
    "    for dataset_id in dataset_ids:\n",
    "        print('Parsing Sector {}, Dataset {}'.format( sector, dataset_id))\n",
    "\n"
   ]
  },
  {
   "cell_type": "code",
   "execution_count": null,
   "metadata": {},
   "outputs": [],
   "source": []
  }
 ],
 "metadata": {
  "kernelspec": {
   "display_name": "Python 3",
   "language": "python",
   "name": "python3"
  },
  "language_info": {
   "codemirror_mode": {
    "name": "ipython",
    "version": 3
   },
   "file_extension": ".py",
   "mimetype": "text/x-python",
   "name": "python",
   "nbconvert_exporter": "python",
   "pygments_lexer": "ipython3",
   "version": "3.8.6"
  }
 },
 "nbformat": 4,
 "nbformat_minor": 4
}
