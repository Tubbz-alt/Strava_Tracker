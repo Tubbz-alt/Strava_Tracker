{
 "cells": [
  {
   "cell_type": "markdown",
   "metadata": {},
   "source": [
    "#  Track Analysis\n",
    "\n",
    "In order to properly analyze our GPX tracks, we need to put all of them into the same _frame-of-reference_.   This is accomplished by the following algorithm...\n",
    "\n",
    "* Create a set of variables with the initialized values\n",
    "    * Current Coordinate = Starting Coordinate\n",
    "        * $P_{\\textrm{cur}} = P_{\\textrm{start}}$\n",
    "        * **NOTE:** Starting coordinate $P_{\\textrm{start}}$ is defined below as a fixed variable\n",
    "    * Distance Threshold = Small distance in meters\n",
    "        * $d_{\\textrm{thresh}} = 20 meters$\n",
    "        * This is the distance between a possible point and the current point for consideration.\n",
    "    * Step Distance = Small distance in meters.\n",
    "        * $d_{\\textrm{step}} = 20 meters$\n",
    "        * This is the distance that the route will jump using the average angle\n",
    "    * Waypoint list = empty array\n",
    "        * $\\hat{P}_{\\textrm{waypoints}} = []$"
   ]
  },
  {
   "cell_type": "markdown",
   "metadata": {},
   "source": [
    "## Step 0: Globals"
   ]
  },
  {
   "cell_type": "code",
   "execution_count": 1,
   "metadata": {},
   "outputs": [],
   "source": [
    "database_path = 'bike_data.db'\n",
    "\n",
    "start_coord = (39.5989743, -104.8609468)\n",
    "end_coord   = (39.75428108249532, -105.00085402872664)\n",
    "\n",
    "dist_thresh_m = 20\n",
    "step_dist_m = 25"
   ]
  },
  {
   "cell_type": "markdown",
   "metadata": {},
   "source": [
    "## Step 1: Import Required Libraries"
   ]
  },
  {
   "cell_type": "code",
   "execution_count": 2,
   "metadata": {},
   "outputs": [],
   "source": [
    "import pandas as pd\n",
    "from sqlalchemy import create_engine\n",
    "from ipyleaflet import Map, Marker, Polygon, Polyline\n",
    "import matplotlib\n",
    "import matplotlib.pyplot as plt\n",
    "from matplotlib import cm\n",
    "import math, cmath\n",
    "from geographiclib.geodesic import Geodesic"
   ]
  },
  {
   "cell_type": "markdown",
   "metadata": {},
   "source": [
    "Setup the database."
   ]
  },
  {
   "cell_type": "code",
   "execution_count": 3,
   "metadata": {},
   "outputs": [],
   "source": [
    "# SQLAlchemy connectable \n",
    "conn = create_engine( 'sqlite:///' + database_path ).connect()\n",
    "\n",
    "#  For each segment, we need to create a track for each dataset\n",
    "dataset_ids = pd.read_sql_query('SELECT DISTINCT datasetId FROM point_list', conn)"
   ]
  },
  {
   "cell_type": "markdown",
   "metadata": {},
   "source": [
    "## Step 2: Import points "
   ]
  },
  {
   "cell_type": "code",
   "execution_count": 4,
   "metadata": {},
   "outputs": [],
   "source": [
    "#  For each dataset, load the points w.r.t. each dataset-id, sorted by time.\n",
    "points_by_dataset = {}\n",
    "for dataset_id in dataset_ids['datasetId']:\n",
    "        \n",
    "    #  Create a full track of the segment\n",
    "    sql_query = 'SELECT * FROM point_list WHERE datasetId = {} ORDER BY timestamp'.format( dataset_id )\n",
    "    points_by_dataset[dataset_id] = { 'points': pd.read_sql_query( sql_query, conn ) }"
   ]
  },
  {
   "cell_type": "markdown",
   "metadata": {},
   "source": [
    "## Step 3: Compute Initial Starting Point"
   ]
  },
  {
   "cell_type": "code",
   "execution_count": 5,
   "metadata": {},
   "outputs": [
    {
     "name": "stdout",
     "output_type": "stream",
     "text": [
      "{'lat1': 39.5989743, 'lon1': -104.8609468, 'lat2': 39.627165, 'lon2': -104.868584, 'a12': 0.028784683617945096, 's12': 3197.9074241114827, 'azi1': -11.83191571577791, 'azi2': -11.836785192616361}\n",
      "{'lat1': 39.5989743, 'lon1': -104.8609468, 'lat2': 39.598961, 'lon2': -104.860858, 'a12': 6.992759921777846e-05, 's12': 7.768777666233938, 'azi1': 100.95719169116127, 'azi2': 100.95724829317874}\n",
      "Using Point from Dataset: 1. Dist: 7.768777666233938, Azimuth: 100.95719169116127\n",
      "{'lat1': 39.5989743, 'lon1': -104.8609468, 'lat2': 39.599353, 'lon2': -104.860711, 'a12': 0.0004200775682623222, 's12': 46.66954541145394, 'azi1': 25.719601426835418, 'azi2': 25.719751728760087}\n",
      "avg-angle: 100.95719169116127\n"
     ]
    },
    {
     "name": "stdin",
     "output_type": "stream",
     "text": [
      "End of Loop \n"
     ]
    },
    {
     "name": "stdout",
     "output_type": "stream",
     "text": [
      "{'lat1': 39.5989743, 'lon1': -104.8609468, 'lat2': 39.627165, 'lon2': -104.868584, 'a12': 0.028784683617945096, 's12': 3197.9074241114827, 'azi1': -11.83191571577791, 'azi2': -11.836785192616361}\n",
      "{'lat1': 39.5989743, 'lon1': -104.8609468, 'lat2': 39.598936, 'lon2': -104.860909, 'a12': 4.815662345315682e-05, 's12': 5.350077861673171, 'azi1': 142.63794113256424, 'azi2': 142.6379652266599}\n",
      "Using Point from Dataset: 1. Dist: 5.350077861673171, Azimuth: 142.63794113256424\n",
      "{'lat1': 39.5989743, 'lon1': -104.8609468, 'lat2': 39.599353, 'lon2': -104.860711, 'a12': 0.0004200775682623222, 's12': 46.66954541145394, 'azi1': 25.719601426835418, 'azi2': 25.719751728760087}\n",
      "avg-angle: 142.63794113256424\n"
     ]
    },
    {
     "name": "stdin",
     "output_type": "stream",
     "text": [
      "End of Loop \n"
     ]
    },
    {
     "name": "stdout",
     "output_type": "stream",
     "text": [
      "{'lat1': 39.5989743, 'lon1': -104.8609468, 'lat2': 39.627165, 'lon2': -104.868584, 'a12': 0.028784683617945096, 's12': 3197.9074241114827, 'azi1': -11.83191571577791, 'azi2': -11.836785192616361}\n",
      "{'lat1': 39.5989743, 'lon1': -104.8609468, 'lat2': 39.598921, 'lon2': -104.860941, 'a12': 5.3454579432126866e-05, 's12': 5.9386672360806125, 'azi1': 175.1880423448853, 'azi2': 175.18804604186238}\n",
      "Using Point from Dataset: 1. Dist: 5.9386672360806125, Azimuth: 175.1880423448853\n",
      "{'lat1': 39.5989743, 'lon1': -104.8609468, 'lat2': 39.599353, 'lon2': -104.860711, 'a12': 0.0004200775682623222, 's12': 46.66954541145394, 'azi1': 25.719601426835418, 'azi2': 25.719751728760087}\n",
      "avg-angle: 175.1880423448853\n"
     ]
    },
    {
     "name": "stdin",
     "output_type": "stream",
     "text": [
      "End of Loop \n"
     ]
    },
    {
     "name": "stdout",
     "output_type": "stream",
     "text": [
      "{'lat1': 39.5989743, 'lon1': -104.8609468, 'lat2': 39.627165, 'lon2': -104.868584, 'a12': 0.028784683617945096, 's12': 3197.9074241114827, 'azi1': -11.83191571577791, 'azi2': -11.836785192616361}\n",
      "{'lat1': 39.5989743, 'lon1': -104.8609468, 'lat2': 39.598935, 'lon2': -104.860919, 'a12': 4.477124352149692e-05, 's12': 4.973970798222883, 'azi1': 151.3110072409462, 'azi2': 151.3110249609423}\n",
      "Using Point from Dataset: 1. Dist: 4.973970798222883, Azimuth: 151.3110072409462\n",
      "{'lat1': 39.5989743, 'lon1': -104.8609468, 'lat2': 39.599353, 'lon2': -104.860711, 'a12': 0.0004200775682623222, 's12': 46.66954541145394, 'azi1': 25.719601426835418, 'azi2': 25.719751728760087}\n",
      "avg-angle: 151.3110072409462\n"
     ]
    },
    {
     "name": "stdin",
     "output_type": "stream",
     "text": [
      "End of Loop \n"
     ]
    },
    {
     "name": "stdout",
     "output_type": "stream",
     "text": [
      "{'lat1': 39.5989743, 'lon1': -104.8609468, 'lat2': 39.627165, 'lon2': -104.868584, 'a12': 0.028784683617945096, 's12': 3197.9074241114827, 'azi1': -11.83191571577791, 'azi2': -11.836785192616361}\n",
      "{'lat1': 39.5989743, 'lon1': -104.8609468, 'lat2': 39.59894, 'lon2': -104.860902, 'a12': 4.873012062871303e-05, 's12': 5.413791933645626, 'azi1': 134.702834572786, 'azi2': 134.70286312875248}\n",
      "Using Point from Dataset: 1. Dist: 5.413791933645626, Azimuth: 134.702834572786\n",
      "{'lat1': 39.5989743, 'lon1': -104.8609468, 'lat2': 39.599353, 'lon2': -104.860711, 'a12': 0.0004200775682623222, 's12': 46.66954541145394, 'azi1': 25.719601426835418, 'azi2': 25.719751728760087}\n",
      "avg-angle: 134.702834572786\n"
     ]
    },
    {
     "name": "stdin",
     "output_type": "stream",
     "text": [
      "End of Loop \n"
     ]
    },
    {
     "name": "stdout",
     "output_type": "stream",
     "text": [
      "{'lat1': 39.5989743, 'lon1': -104.8609468, 'lat2': 39.627165, 'lon2': -104.868584, 'a12': 0.028784683617945096, 's12': 3197.9074241114827, 'azi1': -11.83191571577791, 'azi2': -11.836785192616361}\n",
      "{'lat1': 39.5989743, 'lon1': -104.8609468, 'lat2': 39.598945, 'lon2': -104.860885, 'a12': 5.6037467578594535e-05, 's12': 6.225619515988996, 'azi1': 121.5022681896113, 'azi2': 121.50230758154925}\n",
      "Using Point from Dataset: 1. Dist: 6.225619515988996, Azimuth: 121.5022681896113\n",
      "{'lat1': 39.5989743, 'lon1': -104.8609468, 'lat2': 39.599353, 'lon2': -104.860711, 'a12': 0.0004200775682623222, 's12': 46.66954541145394, 'azi1': 25.719601426835418, 'azi2': 25.719751728760087}\n",
      "avg-angle: 121.5022681896113\n"
     ]
    },
    {
     "name": "stdin",
     "output_type": "stream",
     "text": [
      "End of Loop \n"
     ]
    },
    {
     "name": "stdout",
     "output_type": "stream",
     "text": [
      "{'lat1': 39.5989743, 'lon1': -104.8609468, 'lat2': 39.627165, 'lon2': -104.868584, 'a12': 0.028784683617945096, 's12': 3197.9074241114827, 'azi1': -11.83191571577791, 'azi2': -11.836785192616361}\n",
      "{'lat1': 39.5989743, 'lon1': -104.8609468, 'lat2': 39.598934, 'lon2': -104.86085, 'a12': 8.498655309405317e-05, 's12': 9.441788971450942, 'azi1': 118.28718296575929, 'azi2': 118.28724466704003}\n",
      "Using Point from Dataset: 1. Dist: 9.441788971450942, Azimuth: 118.28718296575929\n",
      "{'lat1': 39.5989743, 'lon1': -104.8609468, 'lat2': 39.599353, 'lon2': -104.860711, 'a12': 0.0004200775682623222, 's12': 46.66954541145394, 'azi1': 25.719601426835418, 'azi2': 25.719751728760087}\n",
      "avg-angle: 118.2871829657593\n"
     ]
    },
    {
     "name": "stdin",
     "output_type": "stream",
     "text": [
      "End of Loop \n"
     ]
    },
    {
     "name": "stdout",
     "output_type": "stream",
     "text": [
      "{'lat1': 39.5989743, 'lon1': -104.8609468, 'lat2': 39.627165, 'lon2': -104.868584, 'a12': 0.028784683617945096, 's12': 3197.9074241114827, 'azi1': -11.83191571577791, 'azi2': -11.836785192616361}\n",
      "{'lat1': 39.5989743, 'lon1': -104.8609468, 'lat2': 39.598925, 'lon2': -104.860841, 'a12': 9.548798882524425e-05, 's12': 10.608471655097583, 'azi1': 121.06212065230368, 'azi2': 121.06218809026734}\n",
      "Using Point from Dataset: 1. Dist: 10.608471655097583, Azimuth: 121.06212065230368\n",
      "{'lat1': 39.5989743, 'lon1': -104.8609468, 'lat2': 39.599353, 'lon2': -104.860711, 'a12': 0.0004200775682623222, 's12': 46.66954541145394, 'azi1': 25.719601426835418, 'azi2': 25.719751728760087}\n",
      "avg-angle: 121.06212065230369\n"
     ]
    },
    {
     "name": "stdin",
     "output_type": "stream",
     "text": [
      "End of Loop \n"
     ]
    },
    {
     "name": "stdout",
     "output_type": "stream",
     "text": [
      "{'lat1': 39.5989743, 'lon1': -104.8609468, 'lat2': 39.627165, 'lon2': -104.868584, 'a12': 0.028784683617945096, 's12': 3197.9074241114827, 'azi1': -11.83191571577791, 'azi2': -11.836785192616361}\n",
      "{'lat1': 39.5989743, 'lon1': -104.8609468, 'lat2': 39.598891, 'lon2': -104.860833, 'a12': 0.00012112264768595715, 's12': 13.45641676317516, 'azi1': 133.4164203585845, 'azi2': 133.41649289580107}\n",
      "Using Point from Dataset: 1. Dist: 13.45641676317516, Azimuth: 133.4164203585845\n",
      "{'lat1': 39.5989743, 'lon1': -104.8609468, 'lat2': 39.599353, 'lon2': -104.860711, 'a12': 0.0004200775682623222, 's12': 46.66954541145394, 'azi1': 25.719601426835418, 'azi2': 25.719751728760087}\n",
      "avg-angle: 133.4164203585845\n"
     ]
    },
    {
     "name": "stdin",
     "output_type": "stream",
     "text": [
      "End of Loop \n"
     ]
    },
    {
     "name": "stdout",
     "output_type": "stream",
     "text": [
      "{'lat1': 39.5989743, 'lon1': -104.8609468, 'lat2': 39.627165, 'lon2': -104.868584, 'a12': 0.028784683617945096, 's12': 3197.9074241114827, 'azi1': -11.83191571577791, 'azi2': -11.836785192616361}\n",
      "{'lat1': 39.5989743, 'lon1': -104.8609468, 'lat2': 39.598853, 'lon2': -104.860834, 'a12': 0.00014933249147878642, 's12': 16.59045833142045, 'azi1': 144.26878258606, 'azi2': 144.26885448583812}\n",
      "Using Point from Dataset: 1. Dist: 16.59045833142045, Azimuth: 144.26878258606\n",
      "{'lat1': 39.5989743, 'lon1': -104.8609468, 'lat2': 39.599353, 'lon2': -104.860711, 'a12': 0.0004200775682623222, 's12': 46.66954541145394, 'azi1': 25.719601426835418, 'azi2': 25.719751728760087}\n",
      "avg-angle: 144.26878258606\n"
     ]
    },
    {
     "ename": "KeyboardInterrupt",
     "evalue": "Interrupted by user",
     "output_type": "error",
     "traceback": [
      "\u001b[0;31m---------------------------------------------------------------------------\u001b[0m",
      "\u001b[0;31mKeyboardInterrupt\u001b[0m                         Traceback (most recent call last)",
      "\u001b[0;32m<ipython-input-5-9dbb4da73909>\u001b[0m in \u001b[0;36m<module>\u001b[0;34m\u001b[0m\n\u001b[1;32m     46\u001b[0m         \u001b[0;31m# The next point will be the next point in the sequence which is \"forward\" of the point\u001b[0m\u001b[0;34m\u001b[0m\u001b[0;34m\u001b[0m\u001b[0;34m\u001b[0m\u001b[0m\n\u001b[1;32m     47\u001b[0m         \u001b[0;32mpass\u001b[0m\u001b[0;34m\u001b[0m\u001b[0;34m\u001b[0m\u001b[0m\n\u001b[0;32m---> 48\u001b[0;31m     \u001b[0minput\u001b[0m\u001b[0;34m(\u001b[0m\u001b[0;34m'End of Loop'\u001b[0m\u001b[0;34m)\u001b[0m\u001b[0;34m\u001b[0m\u001b[0;34m\u001b[0m\u001b[0m\n\u001b[0m\u001b[1;32m     49\u001b[0m \u001b[0;34m\u001b[0m\u001b[0m\n",
      "\u001b[0;32m~/.local/lib/python3.8/site-packages/ipykernel/kernelbase.py\u001b[0m in \u001b[0;36mraw_input\u001b[0;34m(self, prompt)\u001b[0m\n\u001b[1;32m    858\u001b[0m                 \u001b[0;34m\"raw_input was called, but this frontend does not support input requests.\"\u001b[0m\u001b[0;34m\u001b[0m\u001b[0;34m\u001b[0m\u001b[0m\n\u001b[1;32m    859\u001b[0m             )\n\u001b[0;32m--> 860\u001b[0;31m         return self._input_request(str(prompt),\n\u001b[0m\u001b[1;32m    861\u001b[0m             \u001b[0mself\u001b[0m\u001b[0;34m.\u001b[0m\u001b[0m_parent_ident\u001b[0m\u001b[0;34m,\u001b[0m\u001b[0;34m\u001b[0m\u001b[0;34m\u001b[0m\u001b[0m\n\u001b[1;32m    862\u001b[0m             \u001b[0mself\u001b[0m\u001b[0;34m.\u001b[0m\u001b[0m_parent_header\u001b[0m\u001b[0;34m,\u001b[0m\u001b[0;34m\u001b[0m\u001b[0;34m\u001b[0m\u001b[0m\n",
      "\u001b[0;32m~/.local/lib/python3.8/site-packages/ipykernel/kernelbase.py\u001b[0m in \u001b[0;36m_input_request\u001b[0;34m(self, prompt, ident, parent, password)\u001b[0m\n\u001b[1;32m    902\u001b[0m             \u001b[0;32mexcept\u001b[0m \u001b[0mKeyboardInterrupt\u001b[0m\u001b[0;34m:\u001b[0m\u001b[0;34m\u001b[0m\u001b[0;34m\u001b[0m\u001b[0m\n\u001b[1;32m    903\u001b[0m                 \u001b[0;31m# re-raise KeyboardInterrupt, to truncate traceback\u001b[0m\u001b[0;34m\u001b[0m\u001b[0;34m\u001b[0m\u001b[0;34m\u001b[0m\u001b[0m\n\u001b[0;32m--> 904\u001b[0;31m                 \u001b[0;32mraise\u001b[0m \u001b[0mKeyboardInterrupt\u001b[0m\u001b[0;34m(\u001b[0m\u001b[0;34m\"Interrupted by user\"\u001b[0m\u001b[0;34m)\u001b[0m \u001b[0;32mfrom\u001b[0m \u001b[0;32mNone\u001b[0m\u001b[0;34m\u001b[0m\u001b[0;34m\u001b[0m\u001b[0m\n\u001b[0m\u001b[1;32m    905\u001b[0m             \u001b[0;32mexcept\u001b[0m \u001b[0mException\u001b[0m \u001b[0;32mas\u001b[0m \u001b[0me\u001b[0m\u001b[0;34m:\u001b[0m\u001b[0;34m\u001b[0m\u001b[0;34m\u001b[0m\u001b[0m\n\u001b[1;32m    906\u001b[0m                 \u001b[0mself\u001b[0m\u001b[0;34m.\u001b[0m\u001b[0mlog\u001b[0m\u001b[0;34m.\u001b[0m\u001b[0mwarning\u001b[0m\u001b[0;34m(\u001b[0m\u001b[0;34m\"Invalid Message:\"\u001b[0m\u001b[0;34m,\u001b[0m \u001b[0mexc_info\u001b[0m\u001b[0;34m=\u001b[0m\u001b[0;32mTrue\u001b[0m\u001b[0;34m)\u001b[0m\u001b[0;34m\u001b[0m\u001b[0;34m\u001b[0m\u001b[0m\n",
      "\u001b[0;31mKeyboardInterrupt\u001b[0m: Interrupted by user"
     ]
    }
   ],
   "source": [
    "def mean_angle(angles):\n",
    "    return math.degrees(cmath.phase(sum(cmath.rect(1, math.radians(d)) for d in angles)/len(angles)))\n",
    "\n",
    "waypoint_list = []\n",
    "current_point = start_coord\n",
    "matching_points = []\n",
    "\n",
    "current_dataset_idx = {}\n",
    "for dataset_id in dataset_ids['datasetId']:\n",
    "    current_dataset_idx[dataset_id] = 0\n",
    "\n",
    "#  Start a loop, running until all points are complete\n",
    "while True:\n",
    "    \n",
    "    #  Look for the nearest first points within the threshold\n",
    "    temp_angles = []\n",
    "    for dataset_id in dataset_ids['datasetId']:\n",
    "        current_point = ( points_by_dataset[dataset_id]['points']['latitude'][current_dataset_idx[dataset_id]],\n",
    "                          points_by_dataset[dataset_id]['points']['longitude'][current_dataset_idx[dataset_id]] )\n",
    "    \n",
    "        geod = Geodesic.WGS84.Inverse( start_coord[0], start_coord[1], current_point[0], current_point[1] )\n",
    "        print(geod)\n",
    "    \n",
    "        if geod['s12'] < dist_thresh_m:\n",
    "        \n",
    "            #  Compute angle to new point\n",
    "            temp_angles.append( geod['azi1'])\n",
    "            print('Using Point from Dataset: {}. Dist: {}, Azimuth: {}'.format(dataset_id, geod['s12'], geod['azi1']))\n",
    "            matching_points.append( (dataset_id, current_dataset_idx[dataset_id]) )\n",
    "            current_dataset_idx[dataset_id] += 1\n",
    "        else:\n",
    "            pass\n",
    "    avg_angle = mean_angle( temp_angles )\n",
    "    print('avg-angle: {}'.format(avg_angle))\n",
    "\n",
    "    #  Compute new point\n",
    "    geod = Geodesic.WGS84.Direct( current_point[0],\n",
    "                                  current_point[1],\n",
    "                                  avg_angle,\n",
    "                                  step_dist_m )\n",
    "    current_point = ( geod['lat2'], geod['lon2'] )\n",
    "    \n",
    "    #  Update Current Indices\n",
    "    for dataset_id in dataset_ids:\n",
    "        \n",
    "        # The next point will be the next point in the sequence which is \"forward\" of the point\n",
    "        pass\n",
    "    input('End of Loop')\n",
    "    "
   ]
  },
  {
   "cell_type": "code",
   "execution_count": null,
   "metadata": {},
   "outputs": [],
   "source": []
  }
 ],
 "metadata": {
  "kernelspec": {
   "display_name": "Python 3",
   "language": "python",
   "name": "python3"
  },
  "language_info": {
   "codemirror_mode": {
    "name": "ipython",
    "version": 3
   },
   "file_extension": ".py",
   "mimetype": "text/x-python",
   "name": "python",
   "nbconvert_exporter": "python",
   "pygments_lexer": "ipython3",
   "version": "3.8.5"
  }
 },
 "nbformat": 4,
 "nbformat_minor": 4
}
